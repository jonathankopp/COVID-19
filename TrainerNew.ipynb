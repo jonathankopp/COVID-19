{
 "cells": [
  {
   "cell_type": "code",
   "execution_count": null,
   "metadata": {
    "optumi": {
     "name": "io"
    }
   },
   "outputs": [],
   "source": [
    "def inputify(fileName):\n",
    "    return fileName\n",
    "def outputify(fileName):\n",
    "    return fileName"
   ]
  },
  {
   "cell_type": "code",
   "execution_count": null,
   "metadata": {
    "optumi": {
     "name": "common",
     "next": [
      "preprocessing"
     ]
    }
   },
   "outputs": [],
   "source": [
    "# Imports go here\n",
    "import sys\n",
    "import warnings\n",
    "import io\n",
    "import os\n",
    "from pathlib import Path\n",
    "\n",
    "with warnings.catch_warnings():  \n",
    "    warnings.filterwarnings(\"ignore\", category=FutureWarning)\n",
    "    import pandas as pd\n",
    "    import numpy as np\n",
    "    from keras.models import Sequential\n",
    "    from keras.layers import Dense\n",
    "    from keras.layers import Dropout\n",
    "    from keras.layers import Flatten\n",
    "    from keras.layers.convolutional import Conv2D\n",
    "    from keras.layers.convolutional import MaxPooling2D\n",
    "    from keras.utils import np_utils\n",
    "    from sklearn import metrics\n",
    "    from sklearn.model_selection import train_test_split\n",
    "    \n",
    "working_directory = str(Path.home()) + \"/\"\n",
    "class_names = ['0','1','2','3','4','5','6','7','8','9','A','B','C','D','E','F','G','H','I','J','K','L',\n",
    "'M','N','O','P','Q','R','S','T','U','V','W','X','Y','Z','a','b','d','e','f','g','h','n','q','r','t']\n",
    "models = []"
   ]
  },
  {
   "cell_type": "code",
   "execution_count": null,
   "metadata": {
    "optumi": {
     "name": "preprocessing",
     "next": [
      "model1",
      "model2",
      "model3"
     ]
    }
   },
   "outputs": [],
   "source": [
    "def get_data():\n",
    "    # Must use a read_csv call with file_path variable and output dataFrame\n",
    "    inputName = inputify(working_directory + 'input/emnist_balanced.csv')\n",
    "    data = pd.read_csv(inputName, header=None)\n",
    "    return data\n",
    "\n",
    "def prep_data(data):\n",
    "    # Split first column off as label we're predicting\n",
    "    X = data.iloc[:,1:]\n",
    "    y = data.iloc[:,0]\n",
    "    train_x, test_x, train_y, test_y = train_test_split(X, y, test_size=0.16, random_state=42)\n",
    "\n",
    "    # Images need to be rotated before training\n",
    "    train_x = np.asarray(train_x)\n",
    "    test_x = np.asarray(test_x)\n",
    "    train_x = np.apply_along_axis(rotate, 1, train_x)\n",
    "    test_x = np.apply_along_axis(rotate, 1, test_x)\n",
    "\n",
    "    # Normalization of grey-scale values\n",
    "    train_x = train_x.astype('float32') / 255\n",
    "    test_x = test_x.astype('float32') / 255\n",
    "\n",
    "    # One-hot enconding of labels\n",
    "    num_classes = y.nunique()\n",
    "    train_y = np_utils.to_categorical(train_y, num_classes)\n",
    "    test_y = np_utils.to_categorical(test_y, num_classes)\n",
    "\n",
    "    # Reshaping to 28x28x1 image of grey-scale values for CNN\n",
    "    train_x = train_x.reshape(train_x.shape[0], 28, 28, 1)\n",
    "    test_x = test_x.reshape(test_x.shape[0], 28, 28, 1)\n",
    "\n",
    "    return train_x, train_y, test_x, test_y, num_classes\n",
    "\n",
    "def rotate(image):\n",
    "    image = image.reshape([28, 28])\n",
    "    image = np.fliplr(image)\n",
    "    image = np.rot90(image)\n",
    "    return image\n",
    "\n",
    "# Use model_flag when naming files to be saved and transmit back at the end\n",
    "data = get_data()\n",
    "\n",
    "train_x, train_y, test_x, test_y, num_classes = prep_data(data)"
   ]
  },
  {
   "cell_type": "code",
   "execution_count": null,
   "metadata": {
    "optumi": {
     "name": "model1",
     "next": [
      "postprocessing"
     ]
    }
   },
   "outputs": [],
   "source": [
    "# Function can either return compiled model or fitted model if training data is passed as params\n",
    "model = Sequential()\n",
    "model.add(Flatten())\n",
    "model.add(Dense(units=784, activation='relu'))\n",
    "model.add(Dense(units=47, activation='softmax'))\n",
    "model.compile(optimizer='adam', loss='categorical_crossentropy', metrics=['accuracy'])\n",
    "model.fit(train_x, train_y, validation_data=(test_x, test_y), epochs=1)\n",
    "models.append((1, model))"
   ]
  },
  {
   "cell_type": "code",
   "execution_count": null,
   "metadata": {
    "optumi": {
     "name": "model2",
     "next": [
      "postprocessing"
     ]
    }
   },
   "outputs": [],
   "source": [
    "model = Sequential()\n",
    "model.add(Flatten())\n",
    "model.add(Dense(units=784, activation='relu'))\n",
    "model.add(Dense(units=168, activation='selu'))\n",
    "model.add(Dense(units=84, activation='selu'))\n",
    "model.add(Dense(units=47, activation='softmax'))\n",
    "model.compile(optimizer='adam', loss='categorical_crossentropy', metrics=['accuracy'])\n",
    "model.fit(train_x, train_y, validation_data=(test_x, test_y), epochs=1)\n",
    "models.append((2, model))"
   ]
  },
  {
   "cell_type": "code",
   "execution_count": null,
   "metadata": {
    "optumi": {
     "name": "model3",
     "next": [
      "postprocessing"
     ]
    }
   },
   "outputs": [],
   "source": [
    "model = Sequential()\n",
    "model.add(Conv2D(32, (4, 4), input_shape=(28, 28, 1), activation='relu'))\n",
    "model.add(MaxPooling2D(pool_size=(3, 3)))\n",
    "model.add(Dropout(0.2))\n",
    "model.add(Conv2D(32, (3, 3), input_shape=(28, 28, 1), activation='relu'))\n",
    "model.add(MaxPooling2D(pool_size=(2, 2)))\n",
    "model.add(Dropout(0.15))\n",
    "model.add(Flatten())\n",
    "model.add(Dense(units=188, activation='relu'))\n",
    "model.add(Dropout(0.1))\n",
    "model.add(Dense(units=47, activation='softmax'))\n",
    "model.compile(optimizer='adam', loss='categorical_crossentropy', metrics=['accuracy'])\n",
    "model.fit(train_x, train_y, validation_data=(test_x, test_y), epochs=1)\n",
    "models.append((3, model))"
   ]
  },
  {
   "cell_type": "code",
   "execution_count": null,
   "metadata": {
    "optumi": {
     "name": "postprocessing"
    }
   },
   "outputs": [],
   "source": [
    "for i, model in models:\n",
    "    jsonOutputName = outputify(working_directory + 'output/model' + str(i) + '.json')\n",
    "    h5OutputName = outputify(working_directory + 'output/model' + str(i) + '.h5')\n",
    "    model_json = model.to_json()\n",
    "    with open(jsonOutputName, 'w') as json_file:\n",
    "        json_file.write(model_json)\n",
    "    model.save_weights(h5OutputName)"
   ]
  },
  {
   "cell_type": "code",
   "execution_count": null,
   "metadata": {},
   "outputs": [],
   "source": []
  },
  {
   "cell_type": "code",
   "execution_count": null,
   "metadata": {},
   "outputs": [],
   "source": []
  },
  {
   "cell_type": "code",
   "execution_count": null,
   "metadata": {},
   "outputs": [],
   "source": []
  }
 ],
 "metadata": {
  "kernelspec": {
   "display_name": "Python 3",
   "language": "python",
   "name": "python3"
  },
  "language_info": {
   "codemirror_mode": {
    "name": "ipython",
    "version": 3
   },
   "file_extension": ".py",
   "mimetype": "text/x-python",
   "name": "python",
   "nbconvert_exporter": "python",
   "pygments_lexer": "ipython3",
   "version": "3.6.8"
  },
  "optumi": {
   "input": [
    "Input/emnist_balanced.csv"
   ],
   "output": [
    "output/model1.json",
    "output/model2.json",
    "output/model3.json",
    "output/model1.h5",
    "output/model2.h5",
    "output/model3.h5"
   ]
  }
 },
 "nbformat": 4,
 "nbformat_minor": 4
}
